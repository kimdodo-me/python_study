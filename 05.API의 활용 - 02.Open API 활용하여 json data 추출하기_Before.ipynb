{
 "cells": [
  {
   "cell_type": "markdown",
   "metadata": {},
   "source": [
    "### 학습목표\n",
    " 1. OPEN API 사용하여 데이터 획득하기"
   ]
  },
  {
   "cell_type": "markdown",
   "metadata": {},
   "source": [
    "#### 공공데이터 포털 OPEN API 사용하기\n",
    "1. 공공데이터 포털 회원가입/로그인(https://www.data.go.kr/) ---> 가장 많이 쓰임\n",
    "2. API 사용 요청 / 키 발급\n",
    "3. API 문서(specification) 확인 --> 여기가 중요한게 사용설명서의 느낌임 잘 읽고 활용해야 함\n",
    "4. API 테스트 및 개발  -> 테스팅을 거쳐서 \n",
    "5. API는 데이터 찾기->데이터 목록 ->오픈 API 가면 확인 가능"
   ]
  },
  {
   "cell_type": "code",
   "execution_count": 7,
   "metadata": {},
   "outputs": [],
   "source": [
    "import requests"
   ]
  },
  {
   "cell_type": "markdown",
   "metadata": {},
   "source": [
    "#### Endpoint 확인하기(endpoint가 있어야 불러오기 가능)\n",
    " - API가 서비스되는 서버의 IP 혹은 domain 주소"
   ]
  },
  {
   "cell_type": "code",
   "execution_count": 4,
   "metadata": {},
   "outputs": [
    {
     "name": "stdout",
     "output_type": "stream",
     "text": [
      "http://api.visitkorea.or.kr/openapi/service/rest/KorService/areaCode?ServiceKey=ORmV9ekQa%2BLKtRntr00zVq99mi03%2BD7JR7mbzeKMWux6jIIBzRTe3bq7klcGeH7kQeFT%2FNvnuhp7b%2Bp5IBFaFg%3D%3D&areaCode=1&numOfRows=10&pageNo=1&MobileOS=ETC&MobileApp=AppTest&_type=json\n"
     ]
    }
   ],
   "source": [
    "end_point='http://api.visitkorea.or.kr/openapi/service/rest/KorService/areaCode?ServiceKey={}&areaCode=1&numOfRows=10&pageNo=1&MobileOS=ETC&MobileApp=AppTest&_type=json'.format(service_key)\n",
    "print(end_point)"
   ]
  },
  {
   "cell_type": "markdown",
   "metadata": {},
   "source": [
    "* **인증키만 대체됨 가져온 end point에서**\n",
    "* **클릭해보면 xml형식으로 데이터를 가져왔음을 알 수 있다.**\n",
    "* **사실요즘은 json이 더 많이 쓰여서 잘 쓰이지는 않음**\n",
    "* **공공기관 포털 api는 json으로 호출하려면 마지막에 &_type=json 하면됨**\n",
    "* **파이썬은 json을 다루는 게 쉬움**"
   ]
  },
  {
   "cell_type": "markdown",
   "metadata": {},
   "source": [
    "#### key 값 확인하기\n",
    " - 서비스 호출 트래킹할 목적이나 악의적인 사용을 금지할 목적으로 주로 사용\n",
    " - 새로 발급받은 키는 1시간 이후 사용 가능"
   ]
  },
  {
   "cell_type": "code",
   "execution_count": 1,
   "metadata": {},
   "outputs": [],
   "source": [
    "service_key = 'ORmV9ekQa%2BLKtRntr00zVq99mi03%2BD7JR7mbzeKMWux6jIIBzRTe3bq7klcGeH7kQeFT%2FNvnuhp7b%2Bp5IBFaFg%3D%3D'"
   ]
  },
  {
   "cell_type": "markdown",
   "metadata": {},
   "source": [
    "#### Parameter 확인하기\n",
    " - API 호출에 필요한 parameter 값 확인 및 구성"
   ]
  },
  {
   "cell_type": "code",
   "execution_count": 10,
   "metadata": {},
   "outputs": [
    {
     "name": "stdout",
     "output_type": "stream",
     "text": [
      "200\n",
      "{\"response\":{\"header\":{\"resultCode\":\"0000\",\"resultMsg\":\"OK\"},\"body\":{\"items\":{\"item\":[{\"code\":1,\"name\":\"강남구\",\"rnum\":1},{\"code\":2,\"name\":\"강동구\",\"rnum\":2},{\"code\":3,\"name\":\"강북구\",\"rnum\":3},{\"code\":4,\"name\":\"강서구\",\"rnum\":4},{\"code\":5,\"name\":\"관악구\",\"rnum\":5},{\"code\":6,\"name\":\"광진구\",\"rnum\":6},{\"code\":7,\"name\":\"구로구\",\"rnum\":7},{\"code\":8,\"name\":\"금천구\",\"rnum\":8},{\"code\":9,\"name\":\"노원구\",\"rnum\":9},{\"code\":10,\"name\":\"도봉구\",\"rnum\":10}]},\"numOfRows\":10,\"pageNo\":1,\"totalCount\":25}}}\n"
     ]
    },
    {
     "data": {
      "text/plain": [
       "{'response': {'header': {'resultCode': '0000', 'resultMsg': 'OK'},\n",
       "  'body': {'items': {'item': [{'code': 1, 'name': '강남구', 'rnum': 1},\n",
       "     {'code': 2, 'name': '강동구', 'rnum': 2},\n",
       "     {'code': 3, 'name': '강북구', 'rnum': 3},\n",
       "     {'code': 4, 'name': '강서구', 'rnum': 4},\n",
       "     {'code': 5, 'name': '관악구', 'rnum': 5},\n",
       "     {'code': 6, 'name': '광진구', 'rnum': 6},\n",
       "     {'code': 7, 'name': '구로구', 'rnum': 7},\n",
       "     {'code': 8, 'name': '금천구', 'rnum': 8},\n",
       "     {'code': 9, 'name': '노원구', 'rnum': 9},\n",
       "     {'code': 10, 'name': '도봉구', 'rnum': 10}]},\n",
       "   'numOfRows': 10,\n",
       "   'pageNo': 1,\n",
       "   'totalCount': 25}}}"
      ]
     },
     "execution_count": 10,
     "metadata": {},
     "output_type": "execute_result"
    }
   ],
   "source": [
    "end_point = 'http://api.visitkorea.or.kr/openapi/service/rest/KorService/areaCode?ServiceKey={}&areaCode=1&numOfRows=10&pageNo={}&MobileOS=ETC&MobileApp=AppTest&_type=json'.format(service_key,1)\n",
    "\n",
    "resp = requests.get(end_point)\n",
    "\n",
    "print(resp.status_code) #200으로 잘나옴을 알 수 있고\n",
    "print(resp.text) # json데이터가 잘 출력됨을 볼 수 있다.\n",
    "\n",
    "\n",
    "resp.json()"
   ]
  },
  {
   "cell_type": "code",
   "execution_count": 12,
   "metadata": {},
   "outputs": [
    {
     "name": "stdout",
     "output_type": "stream",
     "text": [
      "{'code': 1, 'name': '강남구', 'rnum': 1}\n"
     ]
    }
   ],
   "source": [
    "data = resp.json()\n",
    "print(data['response']['body']['items']['item'][0])"
   ]
  },
  {
   "cell_type": "markdown",
   "metadata": {},
   "source": [
    "* **response안에 있는 body안에 있는 item만 가져올 수 있다. numofrows pageno등등 안보임**\n",
    "* **특정 지역 data만 가져오기도 가능**"
   ]
  },
  {
   "cell_type": "markdown",
   "metadata": {},
   "source": [
    "* **추가적으로 전달 받은 데이터가 json인 경우에는 그객체를 바로 받아 올수 있음.json()으로**\n",
    "* **json으로 호출시 type은 dict이다.**\n",
    "* **응답데이터가 json의 형태를 띨 경우에는 text를 사용하지 않고  .json()으로 dict형태로 json데이터 호출 가능하다**"
   ]
  },
  {
   "cell_type": "markdown",
   "metadata": {},
   "source": [
    "#### 요청 및 Response 확인\n",
    " - requests 모듈을 활용하여 API 호출\n",
    " - response 확인하여 원하는 정보 추출\n",
    " - json 데이터의 경우, python dictionary로 변경하여 사용가능"
   ]
  },
  {
   "cell_type": "code",
   "execution_count": null,
   "metadata": {},
   "outputs": [],
   "source": []
  }
 ],
 "metadata": {
  "kernelspec": {
   "display_name": "Python 3",
   "language": "python",
   "name": "python3"
  },
  "language_info": {
   "codemirror_mode": {
    "name": "ipython",
    "version": 3
   },
   "file_extension": ".py",
   "mimetype": "text/x-python",
   "name": "python",
   "nbconvert_exporter": "python",
   "pygments_lexer": "ipython3",
   "version": "3.8.3"
  }
 },
 "nbformat": 4,
 "nbformat_minor": 2
}
