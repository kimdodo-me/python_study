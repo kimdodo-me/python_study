{
 "cells": [
  {
   "cell_type": "markdown",
   "metadata": {},
   "source": [
    "# 파이썬의 기초"
   ]
  },
  {
   "cell_type": "markdown",
   "metadata": {},
   "source": [
    "**문자열은 불변 개체(immutable)**"
   ]
  },
  {
   "cell_type": "code",
   "execution_count": null,
   "metadata": {},
   "outputs": [],
   "source": [
    "a = 'hello world'\n",
    "print(a[0])\n",
    "\n",
    "a[0] ='j'"
   ]
  },
  {
   "cell_type": "markdown",
   "metadata": {},
   "source": [
    " so h ->j로 바꾸고 싶다면"
   ]
  },
  {
   "cell_type": "code",
   "execution_count": null,
   "metadata": {},
   "outputs": [],
   "source": [
    "b = 'jello world'\n",
    "c = 'j' + a[1:]\n",
    "print(b,c)"
   ]
  },
  {
   "cell_type": "markdown",
   "metadata": {},
   "source": [
    "혹은 replace함수 활용"
   ]
  },
  {
   "cell_type": "code",
   "execution_count": null,
   "metadata": {},
   "outputs": [],
   "source": [
    "d = a.replace('h','j')\n",
    "print(d)\n",
    "a"
   ]
  },
  {
   "cell_type": "markdown",
   "metadata": {},
   "source": [
    "## tuple"
   ]
  },
  {
   "cell_type": "markdown",
   "metadata": {},
   "source": [
    "* 튜플도 문자열처럼 immutable"
   ]
  },
  {
   "cell_type": "markdown",
   "metadata": {},
   "source": [
    "**튜플이 사용될 때 tuple unpacking**"
   ]
  },
  {
   "cell_type": "code",
   "execution_count": null,
   "metadata": {},
   "outputs": [],
   "source": [
    "a,b,c,d = 100,200,300,400\n",
    "print(a,b,c,d)"
   ]
  },
  {
   "cell_type": "markdown",
   "metadata": {},
   "source": [
    "* **연습문제** a와 b의 값을 교환하시오."
   ]
  },
  {
   "cell_type": "code",
   "execution_count": null,
   "metadata": {},
   "outputs": [],
   "source": [
    "a = 5\n",
    "b = 4\n",
    "print(a,b)\n",
    "\n",
    "temp = a\n",
    "a=b\n",
    "b=temp \n",
    "\n",
    "print(a,b)"
   ]
  },
  {
   "cell_type": "markdown",
   "metadata": {},
   "source": [
    "**temp라는 값에 넣어 뒀으므로 a의 값은 보존**"
   ]
  },
  {
   "cell_type": "markdown",
   "metadata": {},
   "source": [
    "**but 파이썬은 tuple unpacking을 통해 간단하게 나타낼 수 있음**"
   ]
  },
  {
   "cell_type": "code",
   "execution_count": null,
   "metadata": {},
   "outputs": [],
   "source": [
    "a, b = b,a\n",
    "print(a,b)"
   ]
  },
  {
   "cell_type": "markdown",
   "metadata": {},
   "source": [
    "## dictionary\n",
    "\n",
    "* 키와 값을 갇는 데이터 구조\n",
    "* 키는 내부적으로 hash값으로 저장\n",
    "* 순서를 따지지 않음 **인덱스가 없다.**"
   ]
  },
  {
   "cell_type": "code",
   "execution_count": null,
   "metadata": {},
   "outputs": [],
   "source": [
    "a = {'korea':'seoul',\n",
    "    'canada':'ottawa',\n",
    "     'usa':'washington d.c'}"
   ]
  },
  {
   "cell_type": "code",
   "execution_count": null,
   "metadata": {},
   "outputs": [],
   "source": [
    "print(a['korea'])\n",
    "print(a[0])"
   ]
  },
  {
   "cell_type": "markdown",
   "metadata": {},
   "source": [
    "--> 이렇게 인덱스의 개념은 존재하지 않음"
   ]
  },
  {
   "cell_type": "markdown",
   "metadata": {},
   "source": [
    "**튜플에 값을 추가하는 방법**"
   ]
  },
  {
   "cell_type": "code",
   "execution_count": null,
   "metadata": {},
   "outputs": [],
   "source": [
    "a = {'korea':'seoul',\n",
    "    'canada':'ottawa',\n",
    "     'usa':'washington d.c'}\n",
    "\n",
    "a['japan'] = 'tokyo'"
   ]
  },
  {
   "cell_type": "code",
   "execution_count": null,
   "metadata": {},
   "outputs": [],
   "source": [
    "print(a)"
   ]
  },
  {
   "cell_type": "markdown",
   "metadata": {},
   "source": [
    "-----> 중복되면 값을 덮어씀 (당연)"
   ]
  },
  {
   "cell_type": "markdown",
   "metadata": {},
   "source": [
    "### update() \n",
    "* 두 딕셔너리 병합\n",
    "* 겹쳐지는 값이 있다면 parameter(인수)로 전달되는 키 값이 overwrite하게 된다."
   ]
  },
  {
   "cell_type": "code",
   "execution_count": null,
   "metadata": {},
   "outputs": [],
   "source": [
    "a = {'a':1,'b':2,'c':3}\n",
    "b = {'a':2,'c':4,'e':6}\n",
    "\n",
    "a.update(b)\n",
    "print(a)"
   ]
  },
  {
   "cell_type": "markdown",
   "metadata": {},
   "source": [
    "### key 삭제\n",
    "\n",
    "* del 키워드\n",
    "* pop함수이용"
   ]
  },
  {
   "cell_type": "code",
   "execution_count": null,
   "metadata": {},
   "outputs": [],
   "source": [
    "a = {'a':1,'b':2,'c':3}\n",
    "print(a)\n",
    "\n",
    "#del a['b']\n",
    "print(a)\n",
    "\n"
   ]
  },
  {
   "cell_type": "code",
   "execution_count": null,
   "metadata": {},
   "outputs": [],
   "source": [
    "a.pop('b')\n",
    "\n",
    "print(a)"
   ]
  },
  {
   "cell_type": "markdown",
   "metadata": {},
   "source": [
    "### clear()\n",
    "\n",
    "* 모든 함수 초기화"
   ]
  },
  {
   "cell_type": "code",
   "execution_count": null,
   "metadata": {},
   "outputs": [],
   "source": [
    "a = {'a':1,'b':2,'c':3}\n",
    "a.clear()\n",
    "print(a)"
   ]
  },
  {
   "cell_type": "markdown",
   "metadata": {},
   "source": [
    "### in\n",
    " \n",
    "* key값 존재 유무 확인\n",
    "* in은 dict와 리스트 모두에서 범용적으로 사용가능"
   ]
  },
  {
   "cell_type": "code",
   "execution_count": null,
   "metadata": {},
   "outputs": [],
   "source": [
    "a = {'a':1,'b':2,'c':3}\n",
    "\n",
    "'b' in a\n",
    "'d' in a"
   ]
  },
  {
   "cell_type": "markdown",
   "metadata": {},
   "source": [
    "### get()\n",
    "\n",
    "* get() - key의 val을 반환\n",
    "* 혹은 a['d'] - 이렇게 dict['key']로 val에 접근할 수 있음"
   ]
  },
  {
   "cell_type": "code",
   "execution_count": null,
   "metadata": {},
   "outputs": [],
   "source": [
    "a.get('d')\n",
    "print(a.get('c'))"
   ]
  },
  {
   "cell_type": "markdown",
   "metadata": {},
   "source": [
    "### key와 value에 접근 \n",
    "\n",
    "* keys()\n",
    "* values()\n",
    "* items() -> 키와 값의 튜플을 반환"
   ]
  },
  {
   "cell_type": "code",
   "execution_count": null,
   "metadata": {},
   "outputs": [],
   "source": [
    "print(a.keys())\n",
    "print(a.values())\n",
    "print(a.items())"
   ]
  },
  {
   "cell_type": "markdown",
   "metadata": {},
   "source": [
    "## set\n",
    "\n",
    "* dictionary에서 key만 활용하는 데이터 구조로 이해 \n",
    "* 수학에서의 집합과 동일한 개념"
   ]
  },
  {
   "cell_type": "code",
   "execution_count": null,
   "metadata": {},
   "outputs": [],
   "source": [
    "a = {1,2,3,4,5,6,4,5,1,2}\n",
    "print(a)\n",
    "print(type(a)) #set클래스임"
   ]
  },
  {
   "cell_type": "markdown",
   "metadata": {},
   "source": [
    "---> 중복 값이 제거 된채로 print(출력)"
   ]
  },
  {
   "cell_type": "code",
   "execution_count": null,
   "metadata": {},
   "outputs": [],
   "source": [
    "a = [1,2,3,4,5,1,2,4,5]\n",
    "\n",
    "b=set(a)\n",
    "print(b)\n",
    "\n"
   ]
  },
  {
   "cell_type": "markdown",
   "metadata": {},
   "source": [
    "-->리스트의 값도 set으로 변환가능"
   ]
  },
  {
   "cell_type": "code",
   "execution_count": null,
   "metadata": {},
   "outputs": [],
   "source": [
    "a = {1,2,3}\n",
    "b = {2,3,4}\n",
    "\n",
    "print(a.union(b))\n",
    "print(a.intersection(b))\n",
    "print(a.difference(b))\n",
    "print(a.issubset(b))\n"
   ]
  },
  {
   "cell_type": "markdown",
   "metadata": {},
   "source": [
    "---> 차례대로 합집합 / 교집합 / 차집합 / 부분집합여부"
   ]
  },
  {
   "cell_type": "markdown",
   "metadata": {},
   "source": [
    "a는 b의 부분집합이 아니다."
   ]
  },
  {
   "cell_type": "markdown",
   "metadata": {},
   "source": [
    "# 조건문, 반복문 \n",
    "\n",
    "* 이것이 프로그래밍의 기본틀 \n"
   ]
  },
  {
   "cell_type": "code",
   "execution_count": null,
   "metadata": {},
   "outputs": [],
   "source": [
    "if 6>=5:\n",
    "    print('it is true')\n",
    "    \n",
    "print('this code is not belong to if statement')"
   ]
  },
  {
   "cell_type": "code",
   "execution_count": null,
   "metadata": {},
   "outputs": [],
   "source": [
    "if 6==5:\n",
    "    print('it is true')\n",
    "    \n",
    "print('this code is not belong to if statement')"
   ]
  },
  {
   "cell_type": "markdown",
   "metadata": {},
   "source": [
    "* 조건 우선순위 --> NOT > AND > OR"
   ]
  },
  {
   "cell_type": "markdown",
   "metadata": {},
   "source": [
    "### IF의 조건문이 bool이 아닌경우 \n",
    "\n",
    "* 일반적으로 if조건문의 조건구절은 boolin 타입이 오게 되지만 정수,실수,문자열등 기본 타입도 조건에 사용가능\n",
    "* 0 / 빈값( [], {}, set() ) / false가 아니라면 조건문 가능"
   ]
  },
  {
   "cell_type": "code",
   "execution_count": null,
   "metadata": {},
   "outputs": [],
   "source": [
    "a = [1,2,3] \n",
    "if a:\n",
    "    print('3이 나오나요')"
   ]
  },
  {
   "cell_type": "markdown",
   "metadata": {},
   "source": [
    "### if의 중첩"
   ]
  },
  {
   "cell_type": "code",
   "execution_count": null,
   "metadata": {},
   "outputs": [],
   "source": [
    "a=10\n",
    "b=9\n",
    "c=8\n",
    "\n",
    "\n",
    "if a ==10:\n",
    "    if b ==9:\n",
    "        if c ==7:\n",
    "            print('you are right')\n",
    "        else:\n",
    "            print('slightly')"
   ]
  },
  {
   "cell_type": "markdown",
   "metadata": {},
   "source": [
    "# 반복문\n",
    "\n",
    "* while 반복문\n",
    "* for 반복문"
   ]
  },
  {
   "cell_type": "markdown",
   "metadata": {},
   "source": [
    "**while은 조건을 만족하는 동안에 계속 루프처럼 수행**"
   ]
  },
  {
   "cell_type": "code",
   "execution_count": null,
   "metadata": {},
   "outputs": [],
   "source": [
    "a = [1,2,3,8,656,24,55,658,548]\n",
    "\n",
    "i = 0\n",
    "\n",
    "while i < len(a):\n",
    "    print(a[i])\n",
    "    i += 1\n",
    "print('excatly')"
   ]
  },
  {
   "cell_type": "markdown",
   "metadata": {},
   "source": [
    "---> while문의 핵심은 반복문을 멈출 코드이다. "
   ]
  },
  {
   "cell_type": "code",
   "execution_count": null,
   "metadata": {},
   "outputs": [],
   "source": [
    "a = [2,5,9,20,21,22]\n",
    "\n",
    "i = 0 #이 친구가 인덱스이다\n",
    "\n",
    "while i < len(a):\n",
    "    if a[i] > 20:\n",
    "        print(a[i])\n",
    "    i += 1"
   ]
  },
  {
   "cell_type": "markdown",
   "metadata": {},
   "source": [
    "**마찬가지로 list(a)에서 홀수인 수를 주는 while문**"
   ]
  },
  {
   "cell_type": "code",
   "execution_count": null,
   "metadata": {},
   "outputs": [],
   "source": [
    "a = [2,3,4,6,8,15,29,35,156,2451585,214615]\n",
    "\n",
    "\n",
    "i = 0\n",
    "\n",
    "while i < len(a):\n",
    "    if a[i] % 2: # 0이면 false이고 1이면 true를 가정하고 조건문을 진행한다.\n",
    "        print(a[i])\n",
    "    i += 1"
   ]
  },
  {
   "cell_type": "markdown",
   "metadata": {},
   "source": [
    "### break \n",
    "\n",
    "* while문 강제종료"
   ]
  },
  {
   "cell_type": "code",
   "execution_count": null,
   "metadata": {},
   "outputs": [],
   "source": [
    "a = [2,5,12,18,26]\n",
    "\n",
    "i = 0\n",
    "\n",
    "while i < len(a):\n",
    "    if a[i] > 20:\n",
    "        break\n",
    "    print(a[i])\n",
    "    i += 1"
   ]
  },
  {
   "cell_type": "markdown",
   "metadata": {},
   "source": [
    "----> break가 걸리면 바로 다음 코드로 넘어감 while문 바로 탈출"
   ]
  },
  {
   "cell_type": "markdown",
   "metadata": {},
   "source": [
    "**이 break는 언제 사용되냐 하면 crawling에 사용된다.**"
   ]
  },
  {
   "cell_type": "code",
   "execution_count": null,
   "metadata": {},
   "outputs": [],
   "source": [
    "while True:\n",
    "    data = crawling()\n",
    "    if data == None:\n",
    "        break\n",
    "    print(data)"
   ]
  },
  {
   "cell_type": "markdown",
   "metadata": {},
   "source": [
    "---> 데이터를 크롤링 하는데 만약 데이터가 없다면?? 끝내 버릴 때 사용"
   ]
  },
  {
   "cell_type": "markdown",
   "metadata": {},
   "source": [
    "### continue\n",
    "* break의 반대 break가 while문을 빠져 나오는거라면 continue는 다시 while문으로 점프하는 것"
   ]
  },
  {
   "cell_type": "code",
   "execution_count": null,
   "metadata": {},
   "outputs": [],
   "source": [
    "a = 7\n",
    "while a >0 :\n",
    "    a -=1\n",
    "    if a ==5:\n",
    "        break\n",
    "    print(a)"
   ]
  },
  {
   "cell_type": "code",
   "execution_count": null,
   "metadata": {},
   "outputs": [],
   "source": [
    "a = 7\n",
    "while a >0 :\n",
    "    a -=1\n",
    "    if a ==5:\n",
    "        continue\n",
    "    print(a)"
   ]
  },
  {
   "cell_type": "markdown",
   "metadata": {},
   "source": [
    "----> continue는 **현재 이상황을 끝내고** 다시 while조건문으로 아무렇지 않게 돌아가는 것이다."
   ]
  },
  {
   "cell_type": "markdown",
   "metadata": {},
   "source": [
    "**1부터 100까지 더하는 예제**"
   ]
  },
  {
   "cell_type": "code",
   "execution_count": 5,
   "metadata": {},
   "outputs": [
    {
     "name": "stdout",
     "output_type": "stream",
     "text": [
      "5050\n"
     ]
    }
   ],
   "source": [
    "num = 1\n",
    "_sum = 0\n",
    "while True:\n",
    "    _sum += num\n",
    "    num += 1\n",
    "    if num == 101:\n",
    "        break\n",
    "print(_sum)    "
   ]
  },
  {
   "cell_type": "code",
   "execution_count": 6,
   "metadata": {},
   "outputs": [
    {
     "name": "stdout",
     "output_type": "stream",
     "text": [
      "5050\n"
     ]
    }
   ],
   "source": [
    "num = 1\n",
    "_sum =0\n",
    "\n",
    "while num<=100:\n",
    "    _sum += num\n",
    "    num += 1\n",
    "print(_sum)"
   ]
  },
  {
   "cell_type": "markdown",
   "metadata": {},
   "source": [
    "### for반복문\n",
    "\n",
    "* while이 제어가 필요했던 반면에 for는 제어가 필요하지 않음 \n",
    "* 모든 아이템이 순회되면 for문 종료"
   ]
  },
  {
   "cell_type": "markdown",
   "metadata": {},
   "source": [
    "**문자열 순회가능**\n",
    "\n",
    "* 인덱스가 존재하면 for문으로 순회가능(그러므로 숫자는 순회 불가능)"
   ]
  },
  {
   "cell_type": "code",
   "execution_count": 2,
   "metadata": {},
   "outputs": [
    {
     "name": "stdout",
     "output_type": "stream",
     "text": [
      "g\n",
      "i\n",
      "v\n",
      "e\n",
      " \n",
      "m\n",
      "e\n",
      " \n",
      "a\n",
      " \n",
      "o\n",
      "n\n",
      "e\n",
      " \n",
      "d\n",
      "o\n",
      "l\n",
      "l\n",
      "a\n",
      "r\n"
     ]
    }
   ],
   "source": [
    "a = 'give me a one dollar'\n",
    "for i in a:\n",
    "    print(i)"
   ]
  },
  {
   "cell_type": "code",
   "execution_count": 3,
   "metadata": {},
   "outputs": [
    {
     "ename": "TypeError",
     "evalue": "'int' object is not iterable",
     "output_type": "error",
     "traceback": [
      "\u001b[1;31m---------------------------------------------------------------------------\u001b[0m",
      "\u001b[1;31mTypeError\u001b[0m                                 Traceback (most recent call last)",
      "\u001b[1;32m<ipython-input-3-665a8c31cf25>\u001b[0m in \u001b[0;36m<module>\u001b[1;34m\u001b[0m\n\u001b[1;32m----> 1\u001b[1;33m \u001b[1;32mfor\u001b[0m \u001b[0mi\u001b[0m \u001b[1;32min\u001b[0m \u001b[1;36m10\u001b[0m\u001b[1;33m:\u001b[0m\u001b[1;33m\u001b[0m\u001b[1;33m\u001b[0m\u001b[0m\n\u001b[0m\u001b[0;32m      2\u001b[0m     \u001b[0mprint\u001b[0m\u001b[1;33m(\u001b[0m\u001b[0mi\u001b[0m\u001b[1;33m)\u001b[0m\u001b[1;33m\u001b[0m\u001b[1;33m\u001b[0m\u001b[0m\n",
      "\u001b[1;31mTypeError\u001b[0m: 'int' object is not iterable"
     ]
    }
   ],
   "source": [
    "for i in 10:\n",
    "    print(i)"
   ]
  },
  {
   "cell_type": "markdown",
   "metadata": {},
   "source": [
    "----> iterable하지 않다고 나옴 정수형, 실수형 모두 순회 불가능 \n",
    "**but 리스트는 순회가능**"
   ]
  },
  {
   "cell_type": "markdown",
   "metadata": {},
   "source": [
    "**dict의 아이템 출력**\n",
    "\n",
    "* dictionary는 순회하게 되면 기본적으로 key값을 참조\n",
    "* values()함수를 이용해 value값만 순회하기도 가능"
   ]
  },
  {
   "cell_type": "code",
   "execution_count": 4,
   "metadata": {},
   "outputs": [
    {
     "name": "stdout",
     "output_type": "stream",
     "text": [
      "korea\n",
      "japan\n",
      "china\n"
     ]
    }
   ],
   "source": [
    "a = {'korea':'seoul','japan':'tokyo','china':'bejing'}\n",
    "for i in a:\n",
    "    print(i)"
   ]
  },
  {
   "cell_type": "code",
   "execution_count": 5,
   "metadata": {},
   "outputs": [
    {
     "name": "stdout",
     "output_type": "stream",
     "text": [
      "seoul\n",
      "tokyo\n",
      "bejing\n"
     ]
    }
   ],
   "source": [
    "a = {'korea':'seoul','japan':'tokyo','china':'bejing'}\n",
    "for i in a:\n",
    "    print(a[i])"
   ]
  },
  {
   "cell_type": "code",
   "execution_count": 6,
   "metadata": {},
   "outputs": [
    {
     "name": "stdout",
     "output_type": "stream",
     "text": [
      "korea seoul\n",
      "japan tokyo\n",
      "china bejing\n"
     ]
    }
   ],
   "source": [
    "a = {'korea':'seoul','japan':'tokyo','china':'bejing'}\n",
    "for i in a:\n",
    "    print(i,a[i])"
   ]
  },
  {
   "cell_type": "code",
   "execution_count": 7,
   "metadata": {},
   "outputs": [
    {
     "name": "stdout",
     "output_type": "stream",
     "text": [
      "seoul\n",
      "tokyo\n",
      "bejing\n"
     ]
    }
   ],
   "source": [
    "a = {'korea':'seoul','japan':'tokyo','china':'bejing'}\n",
    "for i in a.values():\n",
    "    print(i)"
   ]
  },
  {
   "cell_type": "markdown",
   "metadata": {},
   "source": [
    "--->이렇게 value값만 산출 가능"
   ]
  },
  {
   "cell_type": "markdown",
   "metadata": {},
   "source": [
    "**enumerate**\n",
    "* index와 값을 동시에 출력가능 "
   ]
  },
  {
   "cell_type": "code",
   "execution_count": 8,
   "metadata": {},
   "outputs": [
    {
     "name": "stdout",
     "output_type": "stream",
     "text": [
      "0 1\n",
      "1 2\n",
      "2 3\n",
      "3 4\n",
      "4 5\n"
     ]
    }
   ],
   "source": [
    "a = [1,2,3,4,5]\n",
    "for index,i in enumerate(a):\n",
    "    print(index,i)"
   ]
  },
  {
   "cell_type": "markdown",
   "metadata": {},
   "source": [
    "**구구단 출력하기**"
   ]
  },
  {
   "cell_type": "code",
   "execution_count": 14,
   "metadata": {},
   "outputs": [
    {
     "name": "stdout",
     "output_type": "stream",
     "text": [
      "2 * 1 = 2\n",
      "2 * 2 = 4\n",
      "2 * 3 = 6\n",
      "2 * 4 = 8\n",
      "2 * 5 = 10\n",
      "2 * 6 = 12\n",
      "2 * 7 = 14\n",
      "2 * 8 = 16\n",
      "2 * 9 = 18\n",
      "3 * 1 = 3\n",
      "3 * 2 = 6\n",
      "3 * 3 = 9\n",
      "3 * 4 = 12\n",
      "3 * 5 = 15\n",
      "3 * 6 = 18\n",
      "3 * 7 = 21\n",
      "3 * 8 = 24\n",
      "3 * 9 = 27\n",
      "4 * 1 = 4\n",
      "4 * 2 = 8\n",
      "4 * 3 = 12\n",
      "4 * 4 = 16\n",
      "4 * 5 = 20\n",
      "4 * 6 = 24\n",
      "4 * 7 = 28\n",
      "4 * 8 = 32\n",
      "4 * 9 = 36\n",
      "5 * 1 = 5\n",
      "5 * 2 = 10\n",
      "5 * 3 = 15\n",
      "5 * 4 = 20\n",
      "5 * 5 = 25\n",
      "5 * 6 = 30\n",
      "5 * 7 = 35\n",
      "5 * 8 = 40\n",
      "5 * 9 = 45\n",
      "6 * 1 = 6\n",
      "6 * 2 = 12\n",
      "6 * 3 = 18\n",
      "6 * 4 = 24\n",
      "6 * 5 = 30\n",
      "6 * 6 = 36\n",
      "6 * 7 = 42\n",
      "6 * 8 = 48\n",
      "6 * 9 = 54\n",
      "7 * 1 = 7\n",
      "7 * 2 = 14\n",
      "7 * 3 = 21\n",
      "7 * 4 = 28\n",
      "7 * 5 = 35\n",
      "7 * 6 = 42\n",
      "7 * 7 = 49\n",
      "7 * 8 = 56\n",
      "7 * 9 = 63\n",
      "8 * 1 = 8\n",
      "8 * 2 = 16\n",
      "8 * 3 = 24\n",
      "8 * 4 = 32\n",
      "8 * 5 = 40\n",
      "8 * 6 = 48\n",
      "8 * 7 = 56\n",
      "8 * 8 = 64\n",
      "8 * 9 = 72\n",
      "9 * 1 = 9\n",
      "9 * 2 = 18\n",
      "9 * 3 = 27\n",
      "9 * 4 = 36\n",
      "9 * 5 = 45\n",
      "9 * 6 = 54\n",
      "9 * 7 = 63\n",
      "9 * 8 = 72\n",
      "9 * 9 = 81\n"
     ]
    }
   ],
   "source": [
    "a = [2,3,4,5,6,7,8,9]\n",
    "b = [1,2,3,4,5,6,7,8,9]\n",
    "for i in range(8):\n",
    "    for j in range(9):\n",
    "        print(a[i] ,\"*\", b[j] , '=' , a[i]*b[j])"
   ]
  },
  {
   "cell_type": "code",
   "execution_count": 15,
   "metadata": {},
   "outputs": [
    {
     "name": "stdout",
     "output_type": "stream",
     "text": [
      "2 * 1 = 2\n",
      "2 * 2 = 4\n",
      "2 * 3 = 6\n",
      "2 * 4 = 8\n",
      "2 * 5 = 10\n",
      "2 * 6 = 12\n",
      "2 * 7 = 14\n",
      "2 * 8 = 16\n",
      "2 * 9 = 18\n",
      "3 * 1 = 3\n",
      "3 * 2 = 6\n",
      "3 * 3 = 9\n",
      "3 * 4 = 12\n",
      "3 * 5 = 15\n",
      "3 * 6 = 18\n",
      "3 * 7 = 21\n",
      "3 * 8 = 24\n",
      "3 * 9 = 27\n",
      "4 * 1 = 4\n",
      "4 * 2 = 8\n",
      "4 * 3 = 12\n",
      "4 * 4 = 16\n",
      "4 * 5 = 20\n",
      "4 * 6 = 24\n",
      "4 * 7 = 28\n",
      "4 * 8 = 32\n",
      "4 * 9 = 36\n",
      "5 * 1 = 5\n",
      "5 * 2 = 10\n",
      "5 * 3 = 15\n",
      "5 * 4 = 20\n",
      "5 * 5 = 25\n",
      "5 * 6 = 30\n",
      "5 * 7 = 35\n",
      "5 * 8 = 40\n",
      "5 * 9 = 45\n",
      "6 * 1 = 6\n",
      "6 * 2 = 12\n",
      "6 * 3 = 18\n",
      "6 * 4 = 24\n",
      "6 * 5 = 30\n",
      "6 * 6 = 36\n",
      "6 * 7 = 42\n",
      "6 * 8 = 48\n",
      "6 * 9 = 54\n",
      "7 * 1 = 7\n",
      "7 * 2 = 14\n",
      "7 * 3 = 21\n",
      "7 * 4 = 28\n",
      "7 * 5 = 35\n",
      "7 * 6 = 42\n",
      "7 * 7 = 49\n",
      "7 * 8 = 56\n",
      "7 * 9 = 63\n",
      "8 * 1 = 8\n",
      "8 * 2 = 16\n",
      "8 * 3 = 24\n",
      "8 * 4 = 32\n",
      "8 * 5 = 40\n",
      "8 * 6 = 48\n",
      "8 * 7 = 56\n",
      "8 * 8 = 64\n",
      "8 * 9 = 72\n",
      "9 * 1 = 9\n",
      "9 * 2 = 18\n",
      "9 * 3 = 27\n",
      "9 * 4 = 36\n",
      "9 * 5 = 45\n",
      "9 * 6 = 54\n",
      "9 * 7 = 63\n",
      "9 * 8 = 72\n",
      "9 * 9 = 81\n"
     ]
    }
   ],
   "source": [
    "a = [2,3,4,5,6,7,8,9]\n",
    "b = [1,2,3,4,5,6,7,8,9]\n",
    "for i in a:\n",
    "    for j in b:\n",
    "        print(i ,\"*\", j , '=' , i*j)"
   ]
  },
  {
   "cell_type": "markdown",
   "metadata": {},
   "source": [
    "**연습문제 1부터 100사이 5의 배수만을 갖는 리스트를 생성하시오.**"
   ]
  },
  {
   "cell_type": "code",
   "execution_count": 21,
   "metadata": {},
   "outputs": [
    {
     "name": "stdout",
     "output_type": "stream",
     "text": [
      "[5, 10, 15, 20, 25, 30, 35, 40, 45, 50, 55, 60, 65, 70, 75, 80, 85, 90, 95, 100]\n"
     ]
    }
   ],
   "source": [
    "a = []\n",
    "\n",
    "for i in range(1,101):\n",
    "    if i % 5 ==0:\n",
    "        a.append(i)\n",
    "print(a)\n",
    "        "
   ]
  },
  {
   "cell_type": "markdown",
   "metadata": {},
   "source": [
    "**연습문제**\n",
    "* 1-100까지 2의 배수 또는 11의 배수 출력\n",
    "* a = [22,1,3,4,7,98,21,55,87,99,19,20,45]의 최대값과 최소값\n",
    "* a = [22,1,3,4,7,98,21,55,87,99,19,20,45]에서 평균"
   ]
  },
  {
   "cell_type": "code",
   "execution_count": 32,
   "metadata": {},
   "outputs": [
    {
     "name": "stdout",
     "output_type": "stream",
     "text": [
      "[1, 3, 5, 7, 9, 11, 13, 15, 17, 19, 21, 23, 25, 27, 29, 31, 33, 35, 37, 39, 41, 43, 45, 47, 49, 51, 53, 55, 57, 59, 61, 63, 65, 67, 69, 71, 73, 75, 77, 79, 81, 83, 85, 87, 89, 91, 93, 95, 97, 99]\n",
      "[1, 12, 23, 34, 45, 56, 67, 78, 89, 100]\n",
      "{1, 3, 5, 7, 9, 11, 12, 13, 15, 17, 19, 21, 23, 25, 27, 29, 31, 33, 34, 35, 37, 39, 41, 43, 45, 47, 49, 51, 53, 55, 56, 57, 59, 61, 63, 65, 67, 69, 71, 73, 75, 77, 78, 79, 81, 83, 85, 87, 89, 91, 93, 95, 97, 99, 100}\n"
     ]
    }
   ],
   "source": [
    "x = list(range(1,101,2))\n",
    "y= list(range(1,101,11))\n",
    "print(x)\n",
    "print(y)\n",
    "print(set(x).union(set(y)))"
   ]
  },
  {
   "cell_type": "code",
   "execution_count": 38,
   "metadata": {},
   "outputs": [
    {
     "name": "stdout",
     "output_type": "stream",
     "text": [
      "2\n",
      "4\n",
      "6\n",
      "8\n",
      "10\n",
      "11\n",
      "12\n",
      "14\n",
      "16\n",
      "18\n",
      "20\n",
      "22\n",
      "24\n",
      "26\n",
      "28\n",
      "30\n",
      "32\n",
      "33\n",
      "34\n",
      "36\n",
      "38\n",
      "40\n",
      "42\n",
      "44\n",
      "46\n",
      "48\n",
      "50\n",
      "52\n",
      "54\n",
      "55\n",
      "56\n",
      "58\n",
      "60\n",
      "62\n",
      "64\n",
      "66\n",
      "68\n",
      "70\n",
      "72\n",
      "74\n",
      "76\n",
      "77\n",
      "78\n",
      "80\n",
      "82\n",
      "84\n",
      "86\n",
      "88\n",
      "90\n",
      "92\n",
      "94\n",
      "96\n",
      "98\n",
      "99\n",
      "100\n"
     ]
    }
   ],
   "source": [
    "for i in range(1,101):\n",
    "    if i % 2 == 0 or i % 11 == 0:\n",
    "        print(i)\n",
    "        "
   ]
  },
  {
   "cell_type": "code",
   "execution_count": 41,
   "metadata": {},
   "outputs": [],
   "source": [
    "a = [22,1,3,4,7,98,21,55,87,99,19,20,45]"
   ]
  },
  {
   "cell_type": "markdown",
   "metadata": {},
   "source": [
    "**조건문으로 최소최대 만드는 법**"
   ]
  },
  {
   "cell_type": "code",
   "execution_count": 39,
   "metadata": {},
   "outputs": [
    {
     "name": "stdout",
     "output_type": "stream",
     "text": [
      "1\n"
     ]
    }
   ],
   "source": [
    "x = a[0]\n",
    "for y in a:\n",
    "    if y < x:\n",
    "        x = y\n",
    "print(x)"
   ]
  },
  {
   "cell_type": "code",
   "execution_count": 43,
   "metadata": {},
   "outputs": [
    {
     "name": "stdout",
     "output_type": "stream",
     "text": [
      "37.0\n"
     ]
    }
   ],
   "source": [
    "sum = 0\n",
    "for i in a:\n",
    "    sum += i\n",
    "print(sum/len(a))"
   ]
  },
  {
   "cell_type": "markdown",
   "metadata": {},
   "source": [
    "# 함수의 이해 및 활용 \n",
    "\n",
    "* 함수명(파라미터1, 파라미터2,.....)\n",
    "* 함수의 네이밍 역시 중요하다(어떤기능을 하는 함수인지 이름에 최대한 표현해야 함)"
   ]
  },
  {
   "cell_type": "markdown",
   "metadata": {},
   "source": [
    "**기본파라미터는 중간부터 정의 할 수 없다**"
   ]
  },
  {
   "cell_type": "code",
   "execution_count": 48,
   "metadata": {},
   "outputs": [
    {
     "name": "stdout",
     "output_type": "stream",
     "text": [
      "1 10 2\n"
     ]
    }
   ],
   "source": [
    "def test(a,b=3,c=5):\n",
    "    print(a,b,c)\n",
    "\n",
    "test(1,10,2)"
   ]
  },
  {
   "cell_type": "code",
   "execution_count": 49,
   "metadata": {},
   "outputs": [
    {
     "ename": "SyntaxError",
     "evalue": "non-default argument follows default argument (<ipython-input-49-ff063586edba>, line 1)",
     "output_type": "error",
     "traceback": [
      "\u001b[1;36m  File \u001b[1;32m\"<ipython-input-49-ff063586edba>\"\u001b[1;36m, line \u001b[1;32m1\u001b[0m\n\u001b[1;33m    def test(a,b=3,c):\u001b[0m\n\u001b[1;37m             ^\u001b[0m\n\u001b[1;31mSyntaxError\u001b[0m\u001b[1;31m:\u001b[0m non-default argument follows default argument\n"
     ]
    }
   ],
   "source": [
    "def test(a,b=3,c):\n",
    "    print(a,b,c)\n",
    "\n",
    "test(1,10,2)"
   ]
  },
  {
   "cell_type": "markdown",
   "metadata": {},
   "source": [
    "**keyword 파라미터**\n",
    "\n",
    "* 파라미터의 이름을 명시하여 전달 가능\n",
    "* 파라미터 이름을 사용하지 않을 경우, 기본적으로 순서에 맞게 전달"
   ]
  },
  {
   "cell_type": "code",
   "execution_count": 50,
   "metadata": {},
   "outputs": [
    {
     "data": {
      "text/plain": [
       "63"
      ]
     },
     "execution_count": 50,
     "metadata": {},
     "output_type": "execute_result"
    }
   ],
   "source": [
    "def test(x,y,z):\n",
    "    a = x+y+z\n",
    "    return a \n",
    "test(x=10,z=3,y=50)"
   ]
  },
  {
   "cell_type": "markdown",
   "metadata": {},
   "source": [
    "**return은 함수를 종료시킨다**\n",
    "\n",
    "* return하고 뒤에 값이 없으면 none값을 반환한다.**"
   ]
  },
  {
   "cell_type": "code",
   "execution_count": 53,
   "metadata": {},
   "outputs": [
    {
     "name": "stdout",
     "output_type": "stream",
     "text": [
      "None\n"
     ]
    }
   ],
   "source": [
    "def multiple(x,y):\n",
    "    if x >10:\n",
    "        return \n",
    "    return x*y\n",
    "\n",
    "print(multiple(12,3))"
   ]
  },
  {
   "cell_type": "code",
   "execution_count": null,
   "metadata": {},
   "outputs": [],
   "source": [
    "-----"
   ]
  },
  {
   "cell_type": "code",
   "execution_count": 56,
   "metadata": {},
   "outputs": [
    {
     "name": "stdout",
     "output_type": "stream",
     "text": [
      "30 40\n",
      "10 20\n"
     ]
    }
   ],
   "source": [
    "num1 = 10\n",
    "num2 = 20\n",
    "def test(num1,num2):\n",
    "    print(num1,num2)\n",
    "    return num1+num2\n",
    "\n",
    "test(30,40)\n",
    "\n",
    "print(num1,num2)"
   ]
  },
  {
   "cell_type": "markdown",
   "metadata": {},
   "source": [
    "---> 함수내부의 변화는 함수밖의 변수에 영향을 미치지 않는다. "
   ]
  },
  {
   "cell_type": "markdown",
   "metadata": {},
   "source": [
    "**가변길이 인자**\n",
    "\n",
    "* print()함수처럼 파라미터(인자)를 변할 수 있게 만드는 것\n",
    "* 파이썬은 관례적으로 함수를 만들고 함숙 가변길이 파라미터라면 *args를 쓰는 것이 관례\n",
    "* 가변길이 인자는 튜플로 인식한다는 것 --> 기억해두기"
   ]
  },
  {
   "cell_type": "code",
   "execution_count": 57,
   "metadata": {},
   "outputs": [
    {
     "name": "stdout",
     "output_type": "stream",
     "text": [
      "1\n",
      "2\n",
      "3\n"
     ]
    }
   ],
   "source": [
    "def test(*x):\n",
    "    for i in x: #x를 튜플로 인식한다\n",
    "        print(i)\n",
    "test(1,2,3)"
   ]
  },
  {
   "cell_type": "code",
   "execution_count": 59,
   "metadata": {},
   "outputs": [
    {
     "name": "stdout",
     "output_type": "stream",
     "text": [
      "1\n",
      "2\n",
      "3\n"
     ]
    }
   ],
   "source": [
    "def test(*args):\n",
    "    for i in args: #x를 튜플로 인식한다\n",
    "        print(i)\n",
    "test(1,2,3)"
   ]
  },
  {
   "cell_type": "markdown",
   "metadata": {},
   "source": [
    "**가변길이 키워드 파라미터**\n",
    "\n",
    "* **가 붙은 경우에는 키워드 파라미터로 인식\n",
    "* 키워드 파라미터로 읽는 다는 것은 즉, dictionary의 형태.\n",
    "* 함수 호출시 파라미터의 이름과 값을 함께 전달 가능\n",
    "* dict의 형태기 때문에 튜플과 리스트처럼 순회가능\n",
    "* 이 가변길이 키워드 파라미터는 관례적으로 **kwargs를 쓴다."
   ]
  },
  {
   "cell_type": "code",
   "execution_count": 60,
   "metadata": {},
   "outputs": [
    {
     "name": "stdout",
     "output_type": "stream",
     "text": [
      "<class 'dict'>\n"
     ]
    }
   ],
   "source": [
    "def test2(**x):\n",
    "    return print(type(x))\n",
    "\n",
    "test2()"
   ]
  },
  {
   "cell_type": "code",
   "execution_count": 65,
   "metadata": {},
   "outputs": [
    {
     "name": "stdout",
     "output_type": "stream",
     "text": [
      "key= a value= 1\n",
      "key= b value= 2\n",
      "key= c value= 4\n",
      "key= korea value= seoul\n"
     ]
    }
   ],
   "source": [
    "def test2(**x):\n",
    "    for key, value in x.items(): #items는 key와 values값 모두 나타내는 items()\n",
    "        print('key=',key,'value=',value)\n",
    "\n",
    "test2(a=1,b=2,c=4,korea = 'seoul')"
   ]
  },
  {
   "cell_type": "markdown",
   "metadata": {},
   "source": [
    "**가변길이 함수의 대표적인 예시 문자열 포맷 함수**\n",
    "\n",
    "* format을 활용\n",
    "* format을 활용시 인자의 이름을 정해주면 보다 쉽게 구성 가능"
   ]
  },
  {
   "cell_type": "code",
   "execution_count": 66,
   "metadata": {},
   "outputs": [],
   "source": [
    "a = '1다음은 {two}이고 {two}다음은 {three}이고 {three}다음 {four}야'.format(two = 2, three = 3, four = 4)"
   ]
  },
  {
   "cell_type": "code",
   "execution_count": 67,
   "metadata": {},
   "outputs": [
    {
     "name": "stdout",
     "output_type": "stream",
     "text": [
      "1다음은 2이고 2다음은 3이고 3다음 4야\n"
     ]
    }
   ],
   "source": [
    "print(a)"
   ]
  },
  {
   "cell_type": "markdown",
   "metadata": {},
   "source": [
    "**람다함수의 사용**\n",
    "\n",
    "* def가 아닌 한줄로 함수를 정의\n",
    "* 람다함수는 익명함수, 이름이 없고 구현체만 존재\n",
    "* 콜론을 사이에 두고 왼쪽이 입력 오른쪽이 출력"
   ]
  },
  {
   "cell_type": "code",
   "execution_count": 68,
   "metadata": {},
   "outputs": [
    {
     "data": {
      "text/plain": [
       "25"
      ]
     },
     "execution_count": 68,
     "metadata": {},
     "output_type": "execute_result"
    }
   ],
   "source": [
    "y = lambda x:x**2\n",
    "\n",
    "y(5)"
   ]
  },
  {
   "cell_type": "markdown",
   "metadata": {},
   "source": [
    "**파라미터가 두개인경우 람다 함수**"
   ]
  },
  {
   "cell_type": "code",
   "execution_count": 69,
   "metadata": {},
   "outputs": [
    {
     "data": {
      "text/plain": [
       "6"
      ]
     },
     "execution_count": 69,
     "metadata": {},
     "output_type": "execute_result"
    }
   ],
   "source": [
    "y_sec=lambda x,y:x*y\n",
    "\n",
    "y_sec(2,3)"
   ]
  },
  {
   "cell_type": "markdown",
   "metadata": {},
   "source": [
    "**filter, map, reduce**\n",
    "\n",
    "* 람다가 유용하게 사용되는 3가지 대표적 함수\n",
    "* 함수형 프로그래밍의 기본요소이기도 함\n",
    "* filter: 특정 조건을 만족하는 요소만 남기고 필터링\n",
    "* map: 각 원소를 수식에 따라 변형하여 새로운 리스트를 반환\n",
    "* reduce: 차례대로 앞 2개의 원소를 가지고 연산, 연산의 결과가 또 다음 연산의 입력으로 진행됨, 따라서 마지막까지 진행되면 최종출력은\n",
    "    하나의 값만 남게됨"
   ]
  },
  {
   "cell_type": "markdown",
   "metadata": {},
   "source": [
    "**filter 예제**"
   ]
  },
  {
   "cell_type": "code",
   "execution_count": 77,
   "metadata": {},
   "outputs": [
    {
     "data": {
      "text/plain": [
       "[6, 7, 8, 9]"
      ]
     },
     "execution_count": 77,
     "metadata": {},
     "output_type": "execute_result"
    }
   ],
   "source": [
    "nums = [1,2,3,4,5,6,7,8,9]\n",
    "\n",
    "\n",
    "list(filter(lambda x:x>5,nums)) # 이렇게 필터링이 된다. 필터링 된 함수를 보기 위해 list"
   ]
  },
  {
   "cell_type": "code",
   "execution_count": 78,
   "metadata": {},
   "outputs": [
    {
     "name": "stdout",
     "output_type": "stream",
     "text": [
      "<filter object at 0x000002C7D7698190>\n"
     ]
    }
   ],
   "source": [
    "print(filtering)"
   ]
  },
  {
   "cell_type": "markdown",
   "metadata": {},
   "source": [
    "**짝수를 반환하기 filter를 이용하여**"
   ]
  },
  {
   "cell_type": "code",
   "execution_count": 79,
   "metadata": {},
   "outputs": [
    {
     "data": {
      "text/plain": [
       "[2, 4, 6, 8]"
      ]
     },
     "execution_count": 79,
     "metadata": {},
     "output_type": "execute_result"
    }
   ],
   "source": [
    "nums = [1,2,3,4,5,6,7,8,9]\n",
    "\n",
    "\n",
    "list(filter(lambda x:x % 2 ==0 ,nums))\n",
    "#람다는 리스트의 원소값이 true이면 그 값을 살리고 false이면 필터링한다."
   ]
  },
  {
   "cell_type": "markdown",
   "metadata": {},
   "source": [
    "**map**\n",
    "\n",
    "* 주어진 리스트, 리스트의 제곱을 한 값들을 새로운 리스트로 쓰고 싶을 때 map을 사용한다.\n",
    "* map(함수, 리스트)"
   ]
  },
  {
   "cell_type": "code",
   "execution_count": 81,
   "metadata": {},
   "outputs": [
    {
     "data": {
      "text/plain": [
       "[1, 4, 9, 16, 25, 36, 49, 64, 81, 100]"
      ]
     },
     "execution_count": 81,
     "metadata": {},
     "output_type": "execute_result"
    }
   ],
   "source": [
    "nums = [1,2,3,4,5,6,7,8,9,10]\n",
    "\n",
    "list(map(lambda x:x**2,nums))"
   ]
  },
  {
   "cell_type": "markdown",
   "metadata": {},
   "source": [
    "**reduce**\n",
    "\n",
    "* reduce는 functools 모듈의 함수\n",
    "* reduce(함수, 리스트)\n",
    "* reduce는 리스트 앞의 원소부터 차례대로 연산해나가 최종적으로 한개의 값만 남기고 모두 연소시켜 버림"
   ]
  },
  {
   "cell_type": "markdown",
   "metadata": {},
   "source": [
    "**reduce를 활용하여 리스트 전체의 합과 곱 나타내기**"
   ]
  },
  {
   "cell_type": "code",
   "execution_count": 84,
   "metadata": {},
   "outputs": [
    {
     "data": {
      "text/plain": [
       "55"
      ]
     },
     "execution_count": 84,
     "metadata": {},
     "output_type": "execute_result"
    }
   ],
   "source": [
    "import functools as ft\n",
    "\n",
    "List = range(1,11)\n",
    "\n",
    "ft.reduce(lambda x,y: x+y,List)"
   ]
  },
  {
   "cell_type": "markdown",
   "metadata": {},
   "source": [
    "**함수 연습문제**\n",
    "\n",
    "1. 주어진 숫자 리스트의 평균을 구하는 함수를 출력하시오.\n",
    "2. 해당 숫자가 소수인지 아닌지 판별하시오.\n",
    "3. 2부터 해당 숫자사이에 소수가 몇개인지 출력하는 함수를 구하시오."
   ]
  },
  {
   "cell_type": "code",
   "execution_count": 85,
   "metadata": {},
   "outputs": [
    {
     "data": {
      "text/plain": [
       "5.5"
      ]
     },
     "execution_count": 85,
     "metadata": {},
     "output_type": "execute_result"
    }
   ],
   "source": [
    "number = list(range(1,11))\n",
    "\n",
    "add_list = ft.reduce(lambda x,y:x+y,number)\n",
    "\n",
    "add_list/len(number)"
   ]
  },
  {
   "cell_type": "code",
   "execution_count": 86,
   "metadata": {},
   "outputs": [
    {
     "data": {
      "text/plain": [
       "<filter at 0x2c7d7698d90>"
      ]
     },
     "execution_count": 86,
     "metadata": {},
     "output_type": "execute_result"
    }
   ],
   "source": [
    "list(filter(lambda x:x % 4 == 0,number)"
   ]
  },
  {
   "cell_type": "markdown",
   "metadata": {},
   "source": [
    "**소수판별의 문제**\n",
    "\n",
    "* 2부터 차례대로 대입해 나누어지는 수가 있다면 false"
   ]
  },
  {
   "cell_type": "code",
   "execution_count": 109,
   "metadata": {},
   "outputs": [
    {
     "data": {
      "text/plain": [
       "False"
      ]
     },
     "execution_count": 109,
     "metadata": {},
     "output_type": "execute_result"
    }
   ],
   "source": [
    "    \n",
    "def is_prime(num):\n",
    "    for i in range(2,num):\n",
    "        if num % i == 0:\n",
    "            return False\n",
    "    return True\n",
    "is_prime(10)\n",
    "        \n",
    "    "
   ]
  },
  {
   "cell_type": "markdown",
   "metadata": {},
   "source": [
    "**소수개수 출력**"
   ]
  },
  {
   "cell_type": "code",
   "execution_count": 123,
   "metadata": {},
   "outputs": [],
   "source": [
    "\n",
    "def count_prime(num):\n",
    "    count = 0\n",
    "    for i in range(2,num+1):\n",
    "        if is_prime(i):\n",
    "            count+=1\n",
    "    return count"
   ]
  },
  {
   "cell_type": "code",
   "execution_count": 124,
   "metadata": {},
   "outputs": [
    {
     "data": {
      "text/plain": [
       "8"
      ]
     },
     "execution_count": 124,
     "metadata": {},
     "output_type": "execute_result"
    }
   ],
   "source": [
    "count_prime(18)"
   ]
  },
  {
   "cell_type": "markdown",
   "metadata": {},
   "source": [
    "# 클래스와 객체"
   ]
  },
  {
   "cell_type": "markdown",
   "metadata": {},
   "source": [
    "**클래스는 타입 /**\n",
    "**인간들중 구체화된 형태(어머니 아버지 동생)--> 객체**"
   ]
  },
  {
   "cell_type": "markdown",
   "metadata": {},
   "source": [
    "**class**\n",
    "\n",
    "* 실세계의 것을 모델링하여 속성(attribute)과 동작(method)을 갖는 데이터 타입\n",
    "* 클래스는 타입일 뿐 함수는 인스턴스로 정의한다."
   ]
  },
  {
   "cell_type": "code",
   "execution_count": 125,
   "metadata": {},
   "outputs": [],
   "source": [
    "class person():\n",
    "    pass"
   ]
  },
  {
   "cell_type": "code",
   "execution_count": 126,
   "metadata": {},
   "outputs": [
    {
     "name": "stdout",
     "output_type": "stream",
     "text": [
      "<class '__main__.person'>\n",
      "<class '__main__.person'>\n"
     ]
    }
   ],
   "source": [
    "kim = person()\n",
    "lee = person()\n",
    "\n",
    "print(type(kim))\n",
    "print(type(lee))"
   ]
  },
  {
   "cell_type": "markdown",
   "metadata": {},
   "source": [
    "**__init__(self)사용**"
   ]
  },
  {
   "cell_type": "code",
   "execution_count": 127,
   "metadata": {},
   "outputs": [],
   "source": [
    "class person():\n",
    "    def __init__(self):\n",
    "        self.name = 'kim_ju'\n",
    "        self.age = 18\n",
    "\n"
   ]
  },
  {
   "cell_type": "code",
   "execution_count": 130,
   "metadata": {},
   "outputs": [],
   "source": [
    "who1 = person()\n",
    "who2 = person()"
   ]
  },
  {
   "cell_type": "code",
   "execution_count": 132,
   "metadata": {},
   "outputs": [
    {
     "name": "stdout",
     "output_type": "stream",
     "text": [
      "kim_ju\n",
      "18\n"
     ]
    }
   ],
   "source": [
    "print(who1.name) \n",
    "print(who1.age)"
   ]
  },
  {
   "cell_type": "markdown",
   "metadata": {},
   "source": [
    "---->이 값은 외부에서 바꿀 수 있음 "
   ]
  },
  {
   "cell_type": "code",
   "execution_count": 133,
   "metadata": {},
   "outputs": [],
   "source": [
    "who1.name = 'kim_jiji'\n",
    "who1.age = 23"
   ]
  },
  {
   "cell_type": "code",
   "execution_count": 134,
   "metadata": {},
   "outputs": [
    {
     "name": "stdout",
     "output_type": "stream",
     "text": [
      "kim_jiji 23\n"
     ]
    }
   ],
   "source": [
    "print(who1.name, who1.age)"
   ]
  },
  {
   "cell_type": "markdown",
   "metadata": {},
   "source": [
    "**person 클래스에 추가적으로 파라미터를 받아서 값을 출력하고 싶을 때**"
   ]
  },
  {
   "cell_type": "code",
   "execution_count": 140,
   "metadata": {},
   "outputs": [],
   "source": [
    "class person:\n",
    "    def __init__(self,name,age):\n",
    "        self.name = name\n",
    "        self.age = age\n"
   ]
  },
  {
   "cell_type": "code",
   "execution_count": 142,
   "metadata": {},
   "outputs": [
    {
     "name": "stdout",
     "output_type": "stream",
     "text": [
      "lee_chun\n",
      "30\n"
     ]
    }
   ],
   "source": [
    "who1 = person('lee_chun',30)\n",
    "print(who1.name)\n",
    "print(who1.age)"
   ]
  },
  {
   "cell_type": "markdown",
   "metadata": {},
   "source": [
    "**self**\n",
    "\n",
    "* self는 객체 자체임\n",
    "* c++, 자바의 this에 해당 관례처럼 self가 쓰임\n",
    "* self는 객체 자체라는 말은 밑을 보고 이해하기"
   ]
  },
  {
   "cell_type": "code",
   "execution_count": 155,
   "metadata": {},
   "outputs": [
    {
     "name": "stdout",
     "output_type": "stream",
     "text": [
      "<__main__.person object at 0x000002C7D76CBB80>\n",
      "<__main__.person object at 0x000002C7D76CB910>\n",
      "self: <__main__.person object at 0x000002C7D76CBB80>\n",
      "bob is working now\n",
      "self: <__main__.person object at 0x000002C7D76CB910>\n",
      "kate is working now\n"
     ]
    },
    {
     "data": {
      "text/plain": [
       "'bob'"
      ]
     },
     "execution_count": 155,
     "metadata": {},
     "output_type": "execute_result"
    }
   ],
   "source": [
    "class person:\n",
    "    def __init__(self,name,age):\n",
    "        self.name = name\n",
    "        self.age = age\n",
    "    \n",
    "    def exercise(self):#매서드 (동작)을 정의하는 것\n",
    "        print('self:',self)\n",
    "        print(self.name , 'is working now')\n",
    "a = person('bob',30)\n",
    "b = person('kate',15)\n",
    "\n",
    "print(a)\n",
    "print(b)\n",
    "a.exercise()\n",
    "b.exercise()\n",
    "a.name"
   ]
  },
  {
   "cell_type": "markdown",
   "metadata": {},
   "source": [
    "----> self를 print한 값을 보면 자기자신이 나옴 즉 a.exercise()는 a라는 값이 exercise()함수안에 들어가는 것과 같다. "
   ]
  },
  {
   "cell_type": "markdown",
   "metadata": {},
   "source": [
    "**method**\n",
    "\n",
    "* 멤버함라고 하며, 해당 클래스의 object에서만 호출가능\n",
    "* 메써드는 객체레벨에서 호출되며, 객체.메써드()의 형태"
   ]
  },
  {
   "cell_type": "code",
   "execution_count": 159,
   "metadata": {},
   "outputs": [],
   "source": [
    "class Counter:\n",
    "    def __init__(self):\n",
    "        self.num = 0 \n",
    "    def increase(self):\n",
    "        self.num +=1\n",
    "    def reset(self):\n",
    "        self.num = 0\n",
    "    def print_number(self):\n",
    "        print(self.num)"
   ]
  },
  {
   "cell_type": "code",
   "execution_count": 168,
   "metadata": {},
   "outputs": [
    {
     "name": "stdout",
     "output_type": "stream",
     "text": [
      "2\n",
      "1\n"
     ]
    }
   ],
   "source": [
    "number1 = Counter()\n",
    "number1.increase()\n",
    "number1.increase()\n",
    "number1.print_number()\n",
    "\n",
    "\n",
    "\n",
    "number2 = Counter()\n",
    "number2.increase()\n",
    "number2.print_number()"
   ]
  },
  {
   "cell_type": "markdown",
   "metadata": {},
   "source": [
    "* number1과 number2는 객체가 다르기 때문에 서로의 값에 영향을 미치지 않는다. "
   ]
  },
  {
   "cell_type": "markdown",
   "metadata": {},
   "source": [
    "**method type**\n",
    "\n",
    "\n",
    "* instance method - 객체로 호출 \n",
    "    * 메쏘드는 객체 레벨로 호출되기 때문에, 해당 메쏘드를 호출한 객체에만 영향을 미친다.\n",
    "* class method - class로 호출 -->static method (함수의 self가 쓰이지 않고 입력된 값만 가지고 진행되는 함수를 일컬음 )\n",
    "    * 클래스 레벨로 호출되기 때문에 클래스 멤버 면수만 변경가능"
   ]
  },
  {
   "cell_type": "code",
   "execution_count": 172,
   "metadata": {},
   "outputs": [],
   "source": [
    "class math:\n",
    "    def add(a,b):\n",
    "        return a+ b\n",
    "#이런 함수를 말함"
   ]
  },
  {
   "cell_type": "markdown",
   "metadata": {},
   "source": [
    "**이러한 class method는 객체를 생성하지 않고 메써드 호출 가능**"
   ]
  },
  {
   "cell_type": "code",
   "execution_count": 173,
   "metadata": {},
   "outputs": [
    {
     "data": {
      "text/plain": [
       "3"
      ]
     },
     "execution_count": 173,
     "metadata": {},
     "output_type": "execute_result"
    }
   ],
   "source": [
    "math.add(1,2)"
   ]
  },
  {
   "cell_type": "markdown",
   "metadata": {},
   "source": [
    "**클래스 상속의 이해**\n",
    "\n",
    "* 기존에 정의해둔 클래스의 기능을 그대로 물려받을 수 있다.\n",
    "* 코드 재사용가능\n",
    "* 상속 받고자하는 기존클래스는 (parent super bass class)라고 한다\n",
    "* 의미적으로 is-a관계를 갖는다?\n",
    "* 상속 받는 클래스는 (child sub derived class)"
   ]
  },
  {
   "cell_type": "code",
   "execution_count": 178,
   "metadata": {},
   "outputs": [
    {
     "name": "stdout",
     "output_type": "stream",
     "text": [
      "kim은 뿌링클를 먹습니다.\n",
      "kim은 평일에4시간 잡니다.\n",
      "kim은 평일에8시간 일합니다.\n"
     ]
    }
   ],
   "source": [
    "class person:\n",
    "    def __init__(self,name,age):\n",
    "        self.name = name\n",
    "        self.age = age\n",
    "        \n",
    "    def eat(self,food):\n",
    "        print('{}은 {}를 먹습니다.'.format(self.name,food))\n",
    "        \n",
    "    def sleep(self,hour):\n",
    "        print('{}은 평일에{}시간 잡니다.'.format(self.name,hour))\n",
    "    \n",
    "    def work(self,hour):\n",
    "        print('{}은 평일에{}시간 일합니다.'.format(self.name,hour))\n",
    "        \n",
    "class student(person):  #상속받고자 하면 상속받을 클래스를 ()안에 적음\n",
    "    pass\n",
    "\n",
    "class employee:\n",
    "    pass\n",
    "\n",
    "who1 = person('kim',29)\n",
    "who1.eat('뿌링클')\n",
    "who1.sleep(4)\n",
    "who1.work(8)"
   ]
  },
  {
   "cell_type": "code",
   "execution_count": 180,
   "metadata": {},
   "outputs": [
    {
     "name": "stdout",
     "output_type": "stream",
     "text": [
      "kim은 뿌링클를 먹습니다.\n",
      "kim은 평일에4시간 잡니다.\n",
      "kim은 평일에8시간 일합니다.\n"
     ]
    }
   ],
   "source": [
    "class student(person):  #상속받고자 하면 상속받을 클래스를 ()안에 적음\n",
    "    def __init__(self,name,age):\n",
    "        self.name = name\n",
    "        self.age = age\n",
    "\n",
    "class employee(person):\n",
    "    def __init__(self,name,age):\n",
    "        self.name = name\n",
    "        self.age = age\n",
    "\n",
    "who1 = student('kim',29)\n",
    "who1.eat('뿌링클')\n",
    "who1.sleep(4)\n",
    "who1.work(8)"
   ]
  },
  {
   "cell_type": "markdown",
   "metadata": {},
   "source": [
    "---> student 클래스에 eat가 sleep함수가 정의되어있지 않아도 상속되있기 때문에 잘 출력됨"
   ]
  },
  {
   "cell_type": "markdown",
   "metadata": {},
   "source": [
    "**method override**\n",
    "\n",
    "* 부모 클래스의 method를 재정의(verride)"
   ]
  },
  {
   "cell_type": "code",
   "execution_count": 181,
   "metadata": {},
   "outputs": [],
   "source": [
    "class person:\n",
    "    def __init__(self,name,age):\n",
    "        self.name = name\n",
    "        self.age = age\n",
    "        \n",
    "    def eat(self,food):\n",
    "        print('{}은 {}를 먹습니다.'.format(self.name,food))\n",
    "        \n",
    "    def sleep(self,hour):\n",
    "        print('{}은 평일에{}시간 잡니다.'.format(self.name,hour))\n",
    "    \n",
    "    def work(self,hour):\n",
    "        print('{}은 평일에{}시간 일합니다.'.format(self.name,hour))\n",
    "        \n",
    "class student(person):  #상속받고자 하면 상속받을 클래스를 ()안에 적음\n",
    "    def __init__(self,name,age):\n",
    "        self.name = name\n",
    "        self.age = age\n",
    "    def work(self,hour):\n",
    "        print('{}은 평일에 {} 시간 공부합니다'.format(self.name,hour))\n",
    "\n",
    "class employee:\n",
    "     def __init__(self,name,age):\n",
    "        self.name = name\n",
    "        self.age = age\n",
    "        "
   ]
  },
  {
   "cell_type": "code",
   "execution_count": 182,
   "metadata": {},
   "outputs": [
    {
     "name": "stdout",
     "output_type": "stream",
     "text": [
      "kim은 뿌링클를 먹습니다.\n",
      "kim은 평일에4시간 잡니다.\n",
      "kim은 평일에 8 시간 공부합니다\n"
     ]
    }
   ],
   "source": [
    "who1 = student('kim',29)\n",
    "who1.eat('뿌링클')\n",
    "who1.sleep(4)\n",
    "who1.work(8)"
   ]
  },
  {
   "cell_type": "markdown",
   "metadata": {},
   "source": [
    "**super**\n",
    "\n",
    "* 하위클래스(자식클래스)에서 부모클래스의 method를 호출할때 사용"
   ]
  },
  {
   "cell_type": "code",
   "execution_count": 201,
   "metadata": {},
   "outputs": [],
   "source": [
    "class person:\n",
    "    def __init__(self,name,age):\n",
    "        self.name = name\n",
    "        self.age = age\n",
    "        \n",
    "    def eat(self,food):\n",
    "        print('{}은 {}를 먹습니다.'.format(self.name,food))\n",
    "        \n",
    "    def sleep(self,hour):\n",
    "        print('{}은 평일에{}시간 잡니다.'.format(self.name,hour))\n",
    "    \n",
    "    def work(self,hour):\n",
    "        print('{}은 평일에{}시간 준비 합니다.'.format(self.name,hour))\n",
    "        \n",
    "class student(person):  #상속받고자 하면 상속받을 클래스를 ()안에 적음\n",
    "    def __init__(self,name,age):\n",
    "        self.name = name\n",
    "        self.age = age\n",
    "    def work(self,hour):\n",
    "        super().work(hour)\n",
    "        print('{}은 평일에 {} 시간 공부합니다'.format(self.name,hour))\n",
    "\n"
   ]
  },
  {
   "cell_type": "code",
   "execution_count": 202,
   "metadata": {},
   "outputs": [
    {
     "name": "stdout",
     "output_type": "stream",
     "text": [
      "kim은 뿌링클를 먹습니다.\n",
      "kim은 평일에4시간 잡니다.\n",
      "kim은 평일에8시간 준비 합니다.\n",
      "kim은 평일에 8 시간 공부합니다\n"
     ]
    }
   ],
   "source": [
    "who1 = student('kim',29)\n",
    "who1.eat('뿌링클')\n",
    "who1.sleep(4)\n",
    "who1.work(8)"
   ]
  },
  {
   "cell_type": "markdown",
   "metadata": {},
   "source": [
    "---> 이렇게 super()를 이용하여 부모클래스를 자식클래스에서 호출할 수 있다. "
   ]
  },
  {
   "cell_type": "markdown",
   "metadata": {},
   "source": [
    "**point**\n",
    "\n",
    "* 2차원 평면점\n",
    "* 연산\n",
    "* 두 점의 덧셈,뺄셈\n",
    "* 한점과 숫자의 곱셈\n",
    "* 그 점의 길이(0,0)\n",
    "* x,y 값 가져오기\n",
    "* 출력하기"
   ]
  },
  {
   "cell_type": "code",
   "execution_count": 211,
   "metadata": {},
   "outputs": [],
   "source": [
    "class point:\n",
    "    def __init__(self,x,y):\n",
    "        self.x = x\n",
    "        self.y = y\n",
    "        \n",
    "    def print_point(self):\n",
    "        return self.x, self.y\n",
    "        \n",
    "p1 = point(2,3)\n",
    "p2 = point(5,8)"
   ]
  },
  {
   "cell_type": "code",
   "execution_count": 223,
   "metadata": {},
   "outputs": [
    {
     "name": "stdout",
     "output_type": "stream",
     "text": [
      "(2,3)\n"
     ]
    }
   ],
   "source": [
    "p1.print_point()"
   ]
  },
  {
   "cell_type": "markdown",
   "metadata": {},
   "source": [
    "---> 이렇게 해도 잘 나옴"
   ]
  },
  {
   "cell_type": "code",
   "execution_count": 219,
   "metadata": {},
   "outputs": [],
   "source": [
    "class point:\n",
    "    def __init__(self,x,y):\n",
    "        self.x = x\n",
    "        self.y = y\n",
    "        \n",
    "    def print_point(self):\n",
    "        print('({},{})'.format(self.x,self.y))"
   ]
  },
  {
   "cell_type": "code",
   "execution_count": 220,
   "metadata": {},
   "outputs": [],
   "source": [
    "p1 = point(2,3)\n",
    "p2 = point(5,8)"
   ]
  },
  {
   "cell_type": "code",
   "execution_count": 222,
   "metadata": {},
   "outputs": [
    {
     "name": "stdout",
     "output_type": "stream",
     "text": [
      "(2,3)\n"
     ]
    }
   ],
   "source": [
    "p1.print_point()"
   ]
  },
  {
   "cell_type": "markdown",
   "metadata": {},
   "source": [
    "---> 강의는 이렇게 알려줌"
   ]
  },
  {
   "cell_type": "code",
   "execution_count": 248,
   "metadata": {},
   "outputs": [],
   "source": [
    "class point:\n",
    "    def __init__(self,x,y):\n",
    "        self.x = x\n",
    "        self.y = y\n",
    "        \n",
    "    def add(self,point): #여기서 point는 지정할 point의 객체중 하나임(x,y)의 형태 \n",
    "        new_x = self.x + point.x\n",
    "        new_y = self.y + point.y\n",
    "        return new_x,new_y\n",
    "    \n",
    "    def print_point(self):\n",
    "        print('({},{})'.format(self.x,self.y))"
   ]
  },
  {
   "cell_type": "code",
   "execution_count": 249,
   "metadata": {},
   "outputs": [
    {
     "data": {
      "text/plain": [
       "(7, 11)"
      ]
     },
     "execution_count": 249,
     "metadata": {},
     "output_type": "execute_result"
    }
   ],
   "source": [
    "p1 = point(2,3)\n",
    "p2 = point(5,8)\n",
    "p3 = p1.add(p2)\n",
    "\n",
    "p3"
   ]
  },
  {
   "cell_type": "markdown",
   "metadata": {},
   "source": [
    "---> 그러나 이렇게 복잡한 형태가 아니라 p3 = p1 + p2, p4 = p1 - p2 이런 형태로 정의하고 플 때 "
   ]
  },
  {
   "cell_type": "code",
   "execution_count": 260,
   "metadata": {},
   "outputs": [],
   "source": [
    "class point:\n",
    "    def __init__(self,x,y):\n",
    "        self.x = x\n",
    "        self.y = y    \n",
    "    def __add__(self,pt): #여기서 pt는 지정할 point의 객체중 하나임(x,y)의 형태 \n",
    "        new_x = self.x + pt.x\n",
    "        new_y = self.y + pt.y\n",
    "        return point(new_x,new_y)\n",
    "    def __sub__(self,pt): \n",
    "        new_x = self.x - pt.x\n",
    "        new_y = self.y - pt.y\n",
    "        return point(new_x,new_y)\n",
    "    def __str__(self):\n",
    "        return '({},{})'.format(self.x,self.y)\n",
    "    def __mul__(self,factor):\n",
    "        return point(self.x*factor,self.y*factor)\n",
    "    def __len__(self):\n",
    "        return self.x**2 + self.y**2\n",
    "    def __getitem__(self,index):\n",
    "        if index == 0:\n",
    "            return self.x\n",
    "        elif index == 1:\n",
    "            return self.y\n",
    "        else:\n",
    "            false"
   ]
  },
  {
   "cell_type": "code",
   "execution_count": 271,
   "metadata": {},
   "outputs": [
    {
     "name": "stdout",
     "output_type": "stream",
     "text": [
      "(2,5)\n",
      "(5,14)\n",
      "(-1,-4)\n",
      "(6,15)\n",
      "29\n",
      "5\n"
     ]
    }
   ],
   "source": [
    "p1 =point(2,5)\n",
    "p2 = point(3,9)\n",
    "p3 = p1 + p2\n",
    "p4 = p1 - p2\n",
    "p5 = p1*3\n",
    "print(p1)\n",
    "print(p3)\n",
    "print(p4)\n",
    "print(p5)\n",
    "print(len(p1)) #--> 이렇게 __len__을 사용하여 객체를 내장함수 이용가능하게 만들어줌\n",
    "print(p1[1]) # 인덱스를 나타내주는 함수도 이렇게 사용가능"
   ]
  },
  {
   "cell_type": "markdown",
   "metadata": {},
   "source": [
    "저 위의 내장함수들은 외우는 것이 아님 교재에 링크 있음\n"
   ]
  },
  {
   "cell_type": "markdown",
   "metadata": {},
   "source": [
    "**연습문제))**\n",
    "\n",
    "* 복소수 클래스 정의\n",
    "* 덧셈 뺄셈 곱셈 연산자 지원\n",
    "* 길이 지원\n",
    "* 복소수 출력\n",
    "* 비교 연산\n",
    "* 연산지원\n",
    "* 절대값 지원"
   ]
  },
  {
   "cell_type": "code",
   "execution_count": 302,
   "metadata": {},
   "outputs": [],
   "source": [
    "import math\n",
    "class complex_num:\n",
    "    def __init__(self,real,img):\n",
    "        self.real = real\n",
    "        self.img = img\n",
    "    def __str__(self):#복소수 클래스 정의\n",
    "        if self.img >=0:\n",
    "            return '{} + {}j'.format(self.real,self.img)\n",
    "        elif self.img < 0:\n",
    "            return '{} - {}j'.format(self.real,abs(self.img))\n",
    "    def __add__(self,com2): #여기에 들어갈 com2는 어차피 내가 밑의 함수에서 complex_num의 객체로 정의할거임\n",
    "        return complex_num(self.real + com2.real,self.img + com2.img)\n",
    "    def __sub__(self,com2):\n",
    "        return complex_num(self.real- com2.real, self.img - com2.img)\n",
    "    \n",
    "    def __mul__(self,factor):\n",
    "        if type(factor) == int:\n",
    "            return complex_num(self.x * factor,self.img*factor)\n",
    "        elif type(factor) == complex_num: #복소수의 곱 --> (a + bj)*(c+dj) = (ac - bd) + (ad + bc)j\n",
    "            return complex_num(self.real*factor.real - self.img*factor.img , self.real*factor.img + self.img*factor.real)\n",
    "    \n",
    "    def __eq__(self,com3): #비교연산함수\n",
    "        return self.real == com3.real and self.img == com3.img\n",
    "    \n",
    "    def __abs__(self): #절대값함수\n",
    "        return math.sqrt(self.real**2 + self.img**2)\n",
    "    \n",
    "    def __len__(self):\n",
    "        return int(math.sqrt(self.real**2 + self.img**2)) #len함수는 complex_number일 때 int형으로 변환후 사용"
   ]
  },
  {
   "cell_type": "code",
   "execution_count": 303,
   "metadata": {},
   "outputs": [
    {
     "name": "stdout",
     "output_type": "stream",
     "text": [
      "6 + 11j\n",
      "1 + 2j\n",
      "-4 - 7j\n",
      "-13 + 19j\n"
     ]
    },
    {
     "data": {
      "text/plain": [
       "False"
      ]
     },
     "execution_count": 303,
     "metadata": {},
     "output_type": "execute_result"
    }
   ],
   "source": [
    "a = complex_num(1,2)\n",
    "b =complex_num(5,9)\n",
    "c = a + b\n",
    "print(c)\n",
    "print(a)\n",
    "print(a - b)\n",
    "print(a*b)\n",
    "a == b"
   ]
  },
  {
   "cell_type": "markdown",
   "metadata": {},
   "source": [
    "-->str을 이용하면 이렇게 바로 나옴\n",
    "* +추가적으로 (-)부호를 제거하고 싶음 -->str에서 형태를 바꿔주면됨\n",
    "* 클래스에 속하면 type(x)를 했을 때 클래스 이름이 나오네\n",
    "**비교연산 method __eq__**"
   ]
  },
  {
   "cell_type": "code",
   "execution_count": 299,
   "metadata": {},
   "outputs": [
    {
     "data": {
      "text/plain": [
       "True"
      ]
     },
     "execution_count": 299,
     "metadata": {},
     "output_type": "execute_result"
    }
   ],
   "source": [
    "c = complex_num(8,8)\n",
    "d = complex_num(8,8)\n",
    "c == d"
   ]
  },
  {
   "cell_type": "code",
   "execution_count": 304,
   "metadata": {},
   "outputs": [
    {
     "data": {
      "text/plain": [
       "2.23606797749979"
      ]
     },
     "execution_count": 304,
     "metadata": {},
     "output_type": "execute_result"
    }
   ],
   "source": [
    "abs(a)"
   ]
  },
  {
   "cell_type": "code",
   "execution_count": 305,
   "metadata": {},
   "outputs": [
    {
     "data": {
      "text/plain": [
       "2"
      ]
     },
     "execution_count": 305,
     "metadata": {},
     "output_type": "execute_result"
    }
   ],
   "source": [
    "len(a)"
   ]
  },
  {
   "cell_type": "code",
   "execution_count": null,
   "metadata": {},
   "outputs": [],
   "source": []
  },
  {
   "cell_type": "code",
   "execution_count": null,
   "metadata": {},
   "outputs": [],
   "source": []
  },
  {
   "cell_type": "code",
   "execution_count": null,
   "metadata": {},
   "outputs": [],
   "source": []
  },
  {
   "cell_type": "code",
   "execution_count": null,
   "metadata": {},
   "outputs": [],
   "source": []
  },
  {
   "cell_type": "code",
   "execution_count": null,
   "metadata": {},
   "outputs": [],
   "source": []
  },
  {
   "cell_type": "code",
   "execution_count": null,
   "metadata": {},
   "outputs": [],
   "source": []
  },
  {
   "cell_type": "code",
   "execution_count": null,
   "metadata": {},
   "outputs": [],
   "source": []
  },
  {
   "cell_type": "code",
   "execution_count": null,
   "metadata": {},
   "outputs": [],
   "source": []
  }
 ],
 "metadata": {
  "kernelspec": {
   "display_name": "Python 3",
   "language": "python",
   "name": "python3"
  },
  "language_info": {
   "codemirror_mode": {
    "name": "ipython",
    "version": 3
   },
   "file_extension": ".py",
   "mimetype": "text/x-python",
   "name": "python",
   "nbconvert_exporter": "python",
   "pygments_lexer": "ipython3",
   "version": "3.8.3"
  }
 },
 "nbformat": 4,
 "nbformat_minor": 4
}
